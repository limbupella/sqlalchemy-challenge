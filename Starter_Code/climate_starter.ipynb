{
 "cells": [
  {
   "cell_type": "code",
   "execution_count": 1,
   "metadata": {},
   "outputs": [],
   "source": [
    "%matplotlib inline\n",
    "from matplotlib import style\n",
    "style.use('fivethirtyeight')\n",
    "import matplotlib.pyplot as plt"
   ]
  },
  {
   "cell_type": "code",
   "execution_count": 2,
   "metadata": {},
   "outputs": [],
   "source": [
    "import numpy as np\n",
    "import pandas as pd\n",
    "import datetime as dt"
   ]
  },
  {
   "cell_type": "markdown",
   "metadata": {},
   "source": [
    "# Reflect Tables into SQLAlchemy ORM"
   ]
  },
  {
   "cell_type": "code",
   "execution_count": 3,
   "metadata": {},
   "outputs": [],
   "source": [
    "# Python SQL toolkit and Object Relational Mapper\n",
    "import sqlalchemy\n",
    "from sqlalchemy.ext.automap import automap_base\n",
    "from sqlalchemy.orm import Session\n",
    "from sqlalchemy import create_engine, func"
   ]
  },
  {
   "cell_type": "code",
   "execution_count": 4,
   "metadata": {},
   "outputs": [],
   "source": [
    "# create engine to hawaii.sqlite\n",
    "engine = create_engine(\"sqlite:///Resources/hawaii.sqlite\",echo=True)"
   ]
  },
  {
   "cell_type": "code",
   "execution_count": 5,
   "metadata": {},
   "outputs": [
    {
     "name": "stdout",
     "output_type": "stream",
     "text": [
      "2024-01-22 21:12:04,001 INFO sqlalchemy.engine.Engine SELECT name FROM sqlite_master WHERE type='table' ORDER BY name\n",
      "2024-01-22 21:12:04,011 INFO sqlalchemy.engine.Engine [raw sql] ()\n",
      "2024-01-22 21:12:04,019 INFO sqlalchemy.engine.Engine PRAGMA main.table_xinfo(\"measurement\")\n",
      "2024-01-22 21:12:04,035 INFO sqlalchemy.engine.Engine [raw sql] ()\n",
      "2024-01-22 21:12:04,086 INFO sqlalchemy.engine.Engine SELECT sql FROM  (SELECT * FROM sqlite_master UNION ALL   SELECT * FROM sqlite_temp_master) WHERE name = ? AND type = 'table'\n",
      "2024-01-22 21:12:04,090 INFO sqlalchemy.engine.Engine [raw sql] ('measurement',)\n",
      "2024-01-22 21:12:04,095 INFO sqlalchemy.engine.Engine PRAGMA main.foreign_key_list(\"measurement\")\n",
      "2024-01-22 21:12:04,097 INFO sqlalchemy.engine.Engine [raw sql] ()\n",
      "2024-01-22 21:12:04,101 INFO sqlalchemy.engine.Engine PRAGMA temp.foreign_key_list(\"measurement\")\n",
      "2024-01-22 21:12:04,109 INFO sqlalchemy.engine.Engine [raw sql] ()\n",
      "2024-01-22 21:12:04,113 INFO sqlalchemy.engine.Engine SELECT sql FROM  (SELECT * FROM sqlite_master UNION ALL   SELECT * FROM sqlite_temp_master) WHERE name = ? AND type = 'table'\n",
      "2024-01-22 21:12:04,115 INFO sqlalchemy.engine.Engine [raw sql] ('measurement',)\n",
      "2024-01-22 21:12:04,126 INFO sqlalchemy.engine.Engine PRAGMA main.index_list(\"measurement\")\n",
      "2024-01-22 21:12:04,128 INFO sqlalchemy.engine.Engine [raw sql] ()\n",
      "2024-01-22 21:12:04,133 INFO sqlalchemy.engine.Engine PRAGMA temp.index_list(\"measurement\")\n",
      "2024-01-22 21:12:04,138 INFO sqlalchemy.engine.Engine [raw sql] ()\n",
      "2024-01-22 21:12:04,144 INFO sqlalchemy.engine.Engine PRAGMA main.index_list(\"measurement\")\n",
      "2024-01-22 21:12:04,146 INFO sqlalchemy.engine.Engine [raw sql] ()\n",
      "2024-01-22 21:12:04,150 INFO sqlalchemy.engine.Engine PRAGMA temp.index_list(\"measurement\")\n",
      "2024-01-22 21:12:04,155 INFO sqlalchemy.engine.Engine [raw sql] ()\n",
      "2024-01-22 21:12:04,161 INFO sqlalchemy.engine.Engine SELECT sql FROM  (SELECT * FROM sqlite_master UNION ALL   SELECT * FROM sqlite_temp_master) WHERE name = ? AND type = 'table'\n",
      "2024-01-22 21:12:04,163 INFO sqlalchemy.engine.Engine [raw sql] ('measurement',)\n",
      "2024-01-22 21:12:04,180 INFO sqlalchemy.engine.Engine PRAGMA main.table_xinfo(\"station\")\n",
      "2024-01-22 21:12:04,183 INFO sqlalchemy.engine.Engine [raw sql] ()\n",
      "2024-01-22 21:12:04,190 INFO sqlalchemy.engine.Engine SELECT sql FROM  (SELECT * FROM sqlite_master UNION ALL   SELECT * FROM sqlite_temp_master) WHERE name = ? AND type = 'table'\n",
      "2024-01-22 21:12:04,193 INFO sqlalchemy.engine.Engine [raw sql] ('station',)\n",
      "2024-01-22 21:12:04,201 INFO sqlalchemy.engine.Engine PRAGMA main.foreign_key_list(\"station\")\n",
      "2024-01-22 21:12:04,204 INFO sqlalchemy.engine.Engine [raw sql] ()\n",
      "2024-01-22 21:12:04,210 INFO sqlalchemy.engine.Engine PRAGMA temp.foreign_key_list(\"station\")\n",
      "2024-01-22 21:12:04,215 INFO sqlalchemy.engine.Engine [raw sql] ()\n",
      "2024-01-22 21:12:04,220 INFO sqlalchemy.engine.Engine SELECT sql FROM  (SELECT * FROM sqlite_master UNION ALL   SELECT * FROM sqlite_temp_master) WHERE name = ? AND type = 'table'\n",
      "2024-01-22 21:12:04,222 INFO sqlalchemy.engine.Engine [raw sql] ('station',)\n",
      "2024-01-22 21:12:04,229 INFO sqlalchemy.engine.Engine PRAGMA main.index_list(\"station\")\n",
      "2024-01-22 21:12:04,233 INFO sqlalchemy.engine.Engine [raw sql] ()\n",
      "2024-01-22 21:12:04,241 INFO sqlalchemy.engine.Engine PRAGMA temp.index_list(\"station\")\n",
      "2024-01-22 21:12:04,244 INFO sqlalchemy.engine.Engine [raw sql] ()\n",
      "2024-01-22 21:12:04,247 INFO sqlalchemy.engine.Engine PRAGMA main.index_list(\"station\")\n",
      "2024-01-22 21:12:04,251 INFO sqlalchemy.engine.Engine [raw sql] ()\n",
      "2024-01-22 21:12:04,254 INFO sqlalchemy.engine.Engine PRAGMA temp.index_list(\"station\")\n",
      "2024-01-22 21:12:04,258 INFO sqlalchemy.engine.Engine [raw sql] ()\n",
      "2024-01-22 21:12:04,261 INFO sqlalchemy.engine.Engine SELECT sql FROM  (SELECT * FROM sqlite_master UNION ALL   SELECT * FROM sqlite_temp_master) WHERE name = ? AND type = 'table'\n",
      "2024-01-22 21:12:04,263 INFO sqlalchemy.engine.Engine [raw sql] ('station',)\n"
     ]
    }
   ],
   "source": [
    "# reflect an existing database into a new model\n",
    "Base = automap_base()\n",
    "# reflect the tables\n",
    "Base.prepare(autoload_with=engine)\n"
   ]
  },
  {
   "cell_type": "code",
   "execution_count": 6,
   "metadata": {},
   "outputs": [
    {
     "data": {
      "text/plain": [
       "['measurement', 'station']"
      ]
     },
     "execution_count": 6,
     "metadata": {},
     "output_type": "execute_result"
    }
   ],
   "source": [
    "# View all of the classes that automap found\n",
    "Base.classes.keys()"
   ]
  },
  {
   "cell_type": "code",
   "execution_count": 7,
   "metadata": {},
   "outputs": [],
   "source": [
    "# Save references to each table\n",
    "measurement= Base.classes.measurement\n",
    "station= Base.classes.station"
   ]
  },
  {
   "cell_type": "code",
   "execution_count": 8,
   "metadata": {},
   "outputs": [],
   "source": [
    "# Create our session (link) from Python to the DB\n",
    "session = Session(engine)"
   ]
  },
  {
   "cell_type": "markdown",
   "metadata": {},
   "source": [
    "# Exploratory Precipitation Analysis"
   ]
  },
  {
   "cell_type": "code",
   "execution_count": 9,
   "metadata": {},
   "outputs": [
    {
     "name": "stdout",
     "output_type": "stream",
     "text": [
      "2024-01-22 21:12:04,382 INFO sqlalchemy.engine.Engine BEGIN (implicit)\n",
      "2024-01-22 21:12:04,399 INFO sqlalchemy.engine.Engine SELECT measurement.date AS measurement_date \n",
      "FROM measurement ORDER BY measurement.date DESC\n",
      " LIMIT ? OFFSET ?\n",
      "2024-01-22 21:12:04,401 INFO sqlalchemy.engine.Engine [generated in 0.00284s] (1, 0)\n",
      "2017-08-23\n"
     ]
    }
   ],
   "source": [
    "# Find the most recent date in the data set.\n",
    "recent_date = session.query(measurement.date).order_by(measurement.date.desc()).first()[0]\n",
    "print(recent_date)\n"
   ]
  },
  {
   "cell_type": "code",
   "execution_count": 10,
   "metadata": {},
   "outputs": [
    {
     "name": "stdout",
     "output_type": "stream",
     "text": [
      "2024-01-22 21:12:04,485 INFO sqlalchemy.engine.Engine SELECT measurement.date AS measurement_date, measurement.prcp AS measurement_prcp \n",
      "FROM measurement \n",
      "WHERE measurement.date >= ? ORDER BY measurement.date\n",
      "2024-01-22 21:12:04,491 INFO sqlalchemy.engine.Engine [generated in 0.00603s] ('2016-08-23',)\n"
     ]
    }
   ],
   "source": [
    "# Design a query to retrieve the last 12 months of precipitation data and plot the results. \n",
    "# Starting from the most recent data point in the database. \n",
    "\n",
    "# Calculate the date one year from the last date in data set.\n",
    "year_ago = dt.date(2017,8,23) - dt.timedelta(days=365)\n",
    "\n",
    "\n",
    "# Perform a query to retrieve the data and precipitation scores\n",
    "perc_data = session.query(measurement.date, measurement.prcp)\\\n",
    "            .filter(measurement.date >= year_ago)\\\n",
    "            .order_by(measurement.date).all()\n",
    "\n",
    "# # Save the query results as a Pandas DataFrame. Explicitly set the column names\n",
    "p_df = pd.DataFrame(perc_data, columns=['Date', 'Precipitation'])\n",
    "\n",
    "\n",
    "# # Sort the dataframe by date\n",
    "p_df.sort_values(by='Date', inplace=True)\n"
   ]
  },
  {
   "cell_type": "code",
   "execution_count": 11,
   "metadata": {},
   "outputs": [
    {
     "data": {
      "text/html": [
       "<div>\n",
       "<style scoped>\n",
       "    .dataframe tbody tr th:only-of-type {\n",
       "        vertical-align: middle;\n",
       "    }\n",
       "\n",
       "    .dataframe tbody tr th {\n",
       "        vertical-align: top;\n",
       "    }\n",
       "\n",
       "    .dataframe thead th {\n",
       "        text-align: right;\n",
       "    }\n",
       "</style>\n",
       "<table border=\"1\" class=\"dataframe\">\n",
       "  <thead>\n",
       "    <tr style=\"text-align: right;\">\n",
       "      <th></th>\n",
       "      <th>Date</th>\n",
       "      <th>Precipitation</th>\n",
       "    </tr>\n",
       "  </thead>\n",
       "  <tbody>\n",
       "    <tr>\n",
       "      <th>0</th>\n",
       "      <td>2016-08-23</td>\n",
       "      <td>0.00</td>\n",
       "    </tr>\n",
       "    <tr>\n",
       "      <th>1</th>\n",
       "      <td>2016-08-23</td>\n",
       "      <td>0.15</td>\n",
       "    </tr>\n",
       "    <tr>\n",
       "      <th>2</th>\n",
       "      <td>2016-08-23</td>\n",
       "      <td>0.05</td>\n",
       "    </tr>\n",
       "    <tr>\n",
       "      <th>3</th>\n",
       "      <td>2016-08-23</td>\n",
       "      <td>NaN</td>\n",
       "    </tr>\n",
       "    <tr>\n",
       "      <th>4</th>\n",
       "      <td>2016-08-23</td>\n",
       "      <td>0.02</td>\n",
       "    </tr>\n",
       "    <tr>\n",
       "      <th>...</th>\n",
       "      <td>...</td>\n",
       "      <td>...</td>\n",
       "    </tr>\n",
       "    <tr>\n",
       "      <th>2225</th>\n",
       "      <td>2017-08-22</td>\n",
       "      <td>0.50</td>\n",
       "    </tr>\n",
       "    <tr>\n",
       "      <th>2228</th>\n",
       "      <td>2017-08-23</td>\n",
       "      <td>0.08</td>\n",
       "    </tr>\n",
       "    <tr>\n",
       "      <th>2226</th>\n",
       "      <td>2017-08-23</td>\n",
       "      <td>0.00</td>\n",
       "    </tr>\n",
       "    <tr>\n",
       "      <th>2227</th>\n",
       "      <td>2017-08-23</td>\n",
       "      <td>0.00</td>\n",
       "    </tr>\n",
       "    <tr>\n",
       "      <th>2229</th>\n",
       "      <td>2017-08-23</td>\n",
       "      <td>0.45</td>\n",
       "    </tr>\n",
       "  </tbody>\n",
       "</table>\n",
       "<p>2230 rows × 2 columns</p>\n",
       "</div>"
      ],
      "text/plain": [
       "            Date  Precipitation\n",
       "0     2016-08-23           0.00\n",
       "1     2016-08-23           0.15\n",
       "2     2016-08-23           0.05\n",
       "3     2016-08-23            NaN\n",
       "4     2016-08-23           0.02\n",
       "...          ...            ...\n",
       "2225  2017-08-22           0.50\n",
       "2228  2017-08-23           0.08\n",
       "2226  2017-08-23           0.00\n",
       "2227  2017-08-23           0.00\n",
       "2229  2017-08-23           0.45\n",
       "\n",
       "[2230 rows x 2 columns]"
      ]
     },
     "execution_count": 11,
     "metadata": {},
     "output_type": "execute_result"
    }
   ],
   "source": [
    "p_df"
   ]
  },
  {
   "cell_type": "code",
   "execution_count": 12,
   "metadata": {},
   "outputs": [
    {
     "data": {
      "image/png": "[encoded data removed]",
      "text/plain": [
       "<Figure size 640x480 with 1 Axes>"
      ]
     },
     "metadata": {},
     "output_type": "display_data"
    }
   ],
   "source": [
    "\n",
    "# Use Pandas Plotting with Matplotlib to plot the data\n",
    "p_df.plot(x='Date', y='Precipitation', rot=90)\n",
    "\n",
    "\n",
    "plt.title('12 months of Percitipation data')\n",
    "plt.xlabel(\"Date\")\n",
    "plt.ylabel(\"Inches\")\n",
    "\n",
    "plt.show()"
   ]
  },
  {
   "cell_type": "code",
   "execution_count": 13,
   "metadata": {},
   "outputs": [
    {
     "data": {
      "text/html": [
       "<div>\n",
       "<style scoped>\n",
       "    .dataframe tbody tr th:only-of-type {\n",
       "        vertical-align: middle;\n",
       "    }\n",
       "\n",
       "    .dataframe tbody tr th {\n",
       "        vertical-align: top;\n",
       "    }\n",
       "\n",
       "    .dataframe thead th {\n",
       "        text-align: right;\n",
       "    }\n",
       "</style>\n",
       "<table border=\"1\" class=\"dataframe\">\n",
       "  <thead>\n",
       "    <tr style=\"text-align: right;\">\n",
       "      <th></th>\n",
       "      <th>Precipitation</th>\n",
       "    </tr>\n",
       "  </thead>\n",
       "  <tbody>\n",
       "    <tr>\n",
       "      <th>count</th>\n",
       "      <td>2021.000000</td>\n",
       "    </tr>\n",
       "    <tr>\n",
       "      <th>mean</th>\n",
       "      <td>0.177279</td>\n",
       "    </tr>\n",
       "    <tr>\n",
       "      <th>std</th>\n",
       "      <td>0.461190</td>\n",
       "    </tr>\n",
       "    <tr>\n",
       "      <th>min</th>\n",
       "      <td>0.000000</td>\n",
       "    </tr>\n",
       "    <tr>\n",
       "      <th>25%</th>\n",
       "      <td>0.000000</td>\n",
       "    </tr>\n",
       "    <tr>\n",
       "      <th>50%</th>\n",
       "      <td>0.020000</td>\n",
       "    </tr>\n",
       "    <tr>\n",
       "      <th>75%</th>\n",
       "      <td>0.130000</td>\n",
       "    </tr>\n",
       "    <tr>\n",
       "      <th>max</th>\n",
       "      <td>6.700000</td>\n",
       "    </tr>\n",
       "  </tbody>\n",
       "</table>\n",
       "</div>"
      ],
      "text/plain": [
       "       Precipitation\n",
       "count    2021.000000\n",
       "mean        0.177279\n",
       "std         0.461190\n",
       "min         0.000000\n",
       "25%         0.000000\n",
       "50%         0.020000\n",
       "75%         0.130000\n",
       "max         6.700000"
      ]
     },
     "execution_count": 13,
     "metadata": {},
     "output_type": "execute_result"
    }
   ],
   "source": [
    "# Use Pandas to calculate the summary statistics for the precipitation data\n",
    "p_df.describe()"
   ]
  },
  {
   "cell_type": "markdown",
   "metadata": {},
   "source": [
    "# Exploratory Station Analysis"
   ]
  },
  {
   "cell_type": "code",
   "execution_count": 14,
   "metadata": {},
   "outputs": [
    {
     "name": "stdout",
     "output_type": "stream",
     "text": [
      "2024-01-22 21:12:05,327 INFO sqlalchemy.engine.Engine SELECT count(station.station) AS count_1 \n",
      "FROM station\n",
      " LIMIT ? OFFSET ?\n",
      "2024-01-22 21:12:05,334 INFO sqlalchemy.engine.Engine [generated in 0.00701s] (1, 0)\n",
      "9\n"
     ]
    }
   ],
   "source": [
    "# Design a query to calculate the total number of stations in the dataset\n",
    "station_data = session.query(func.count(station.station)).first()[0]\n",
    "print(station_data)"
   ]
  },
  {
   "cell_type": "code",
   "execution_count": 15,
   "metadata": {},
   "outputs": [
    {
     "name": "stdout",
     "output_type": "stream",
     "text": [
      "2024-01-22 21:12:05,409 INFO sqlalchemy.engine.Engine SELECT measurement.station AS measurement_station, count(measurement.station) AS count_1 \n",
      "FROM measurement GROUP BY measurement.station ORDER BY count(measurement.station) DESC\n",
      "2024-01-22 21:12:05,413 INFO sqlalchemy.engine.Engine [generated in 0.00406s] ()\n"
     ]
    },
    {
     "data": {
      "text/plain": [
       "[('USC00519281', 2772),\n",
       " ('USC00519397', 2724),\n",
       " ('USC00513117', 2709),\n",
       " ('USC00519523', 2669),\n",
       " ('USC00516128', 2612),\n",
       " ('USC00514830', 2202),\n",
       " ('USC00511918', 1979),\n",
       " ('USC00517948', 1372),\n",
       " ('USC00518838', 511)]"
      ]
     },
     "execution_count": 15,
     "metadata": {},
     "output_type": "execute_result"
    }
   ],
   "source": [
    "# Design a query to find the most active stations (i.e. which stations have the most rows?)\n",
    "# List the stations and their counts in descending order.\n",
    "active_stations = session.query(measurement.station, func.count(measurement.station)).\\\n",
    "    group_by(measurement.station).\\\n",
    "    order_by(func.count(measurement.station).desc()).all()\n",
    "active_stations"
   ]
  },
  {
   "cell_type": "code",
   "execution_count": 16,
   "metadata": {},
   "outputs": [
    {
     "name": "stdout",
     "output_type": "stream",
     "text": [
      "2024-01-22 21:12:05,514 INFO sqlalchemy.engine.Engine SELECT min(measurement.tobs) AS min_1, max(measurement.tobs) AS max_1, avg(measurement.tobs) AS avg_1 \n",
      "FROM measurement \n",
      "WHERE measurement.station = ?\n",
      "2024-01-22 21:12:05,520 INFO sqlalchemy.engine.Engine [generated in 0.00752s] ('USC00519281',)\n"
     ]
    },
    {
     "data": {
      "text/plain": [
       "[(54.0, 85.0, 71.66378066378067)]"
      ]
     },
     "execution_count": 16,
     "metadata": {},
     "output_type": "execute_result"
    }
   ],
   "source": [
    "# Using the most active station id from the previous query, calculate the lowest, highest, and average temperature.\n",
    "station_id = session.query(func.min(measurement.tobs),\n",
    "                                  func.max(measurement.tobs),\n",
    "                                  func.avg(measurement.tobs))\\\n",
    "    .filter(measurement.station == 'USC00519281')\\\n",
    ".all()\n",
    "station_id"
   ]
  },
  {
   "cell_type": "code",
   "execution_count": 17,
   "metadata": {},
   "outputs": [
    {
     "name": "stdout",
     "output_type": "stream",
     "text": [
      "2024-01-22 21:12:05,594 INFO sqlalchemy.engine.Engine SELECT measurement.tobs AS measurement_tobs, measurement.station AS measurement_station \n",
      "FROM measurement \n",
      "WHERE measurement.station = ? AND measurement.date >= ?\n",
      "2024-01-22 21:12:05,597 INFO sqlalchemy.engine.Engine [generated in 0.00266s] ('USC00519281', '2016-08-23')\n"
     ]
    },
    {
     "data": {
      "text/plain": [
       "<Figure size 500x200 with 0 Axes>"
      ]
     },
     "metadata": {},
     "output_type": "display_data"
    },
    {
     "data": {
      "image/png": "[encoded data removed]",
      "text/plain": [
       "<Figure size 640x480 with 1 Axes>"
      ]
     },
     "metadata": {},
     "output_type": "display_data"
    }
   ],
   "source": [
    "# Using the most active station id\n",
    "# Query the last 12 months of temperature observation data for this station and plot the results as a histogram\n",
    "active_id = session.query(measurement.tobs, measurement.station)\\\n",
    "            .filter(measurement.station == \"USC00519281\")\\\n",
    "            .filter(measurement.date >= year_ago)\\\n",
    "            .all()\n",
    "\n",
    "active_df = pd.DataFrame(active_id, columns=['Temperature','Frequency'])\n",
    "\n",
    "plt.figure(figsize=(5,2))\n",
    "active_df.hist(bins=12)\n",
    "plt.title(\"12 months of Temperature Observation Data\" )\n",
    "plt.xlabel(\"Temperature (°F)\")\n",
    "plt.ylabel(\"Frequency\")\n",
    "\n",
    "\n",
    "plt.show()\n"
   ]
  },
  {
   "cell_type": "markdown",
   "metadata": {},
   "source": [
    "# Close Session"
   ]
  },
  {
   "cell_type": "code",
   "execution_count": 18,
   "metadata": {},
   "outputs": [
    {
     "name": "stdout",
     "output_type": "stream",
     "text": [
      "2024-01-22 21:12:06,067 INFO sqlalchemy.engine.Engine ROLLBACK\n"
     ]
    }
   ],
   "source": [
    "# Close Session\n",
    "session.close()"
   ]
  },
  {
   "cell_type": "code",
   "execution_count": null,
   "metadata": {},
   "outputs": [],
   "source": []
  }
 ],
 "metadata": {
  "anaconda-cloud": {},
  "kernel_info": {
   "name": "python3"
  },
  "kernelspec": {
   "display_name": "Python 3 (ipykernel)",
   "language": "python",
   "name": "python3"
  },
  "language_info": {
   "codemirror_mode": {
    "name": "ipython",
    "version": 3
   },
   "file_extension": ".py",
   "mimetype": "text/x-python",
   "name": "python",
   "nbconvert_exporter": "python",
   "pygments_lexer": "ipython3",
   "version": "3.11.5"
  },
  "nteract": {
   "version": "0.12.3"
  },
  "varInspector": {
   "cols": {
    "lenName": 16,
    "lenType": 16,
    "lenVar": 40
   },
   "kernels_config": {
    "python": {
     "delete_cmd_postfix": "",
     "delete_cmd_prefix": "del ",
     "library": "var_list.py",
     "varRefreshCmd": "print(var_dic_list())"
    },
    "r": {
     "delete_cmd_postfix": ") ",
     "delete_cmd_prefix": "rm(",
     "library": "var_list.r",
     "varRefreshCmd": "cat(var_dic_list()) "
    }
   },
   "types_to_exclude": [
    "module",
    "function",
    "builtin_function_or_method",
    "instance",
    "_Feature"
   ],
   "window_display": false
  }
 },
 "nbformat": 4,
 "nbformat_minor": 2
}
